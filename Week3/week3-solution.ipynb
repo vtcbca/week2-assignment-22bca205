{
 "cells": [
  {
   "cell_type": "code",
   "execution_count": 1,
   "id": "9aa5bee2",
   "metadata": {},
   "outputs": [],
   "source": [
    "import sqlite3"
   ]
  },
  {
   "cell_type": "code",
   "execution_count": 2,
   "id": "1131c911",
   "metadata": {},
   "outputs": [],
   "source": [
    "con=sqlite3.connect('ESM.db')"
   ]
  },
  {
   "cell_type": "code",
   "execution_count": 3,
   "id": "3aac0a10",
   "metadata": {},
   "outputs": [],
   "source": [
    "cur=con.cursor()"
   ]
  },
  {
   "cell_type": "code",
   "execution_count": 4,
   "id": "b7ea5176",
   "metadata": {},
   "outputs": [],
   "source": [
    "def create_table():\n",
    "    q=\"create table Employee (eid int PRIMARY KEY, ename text, dept text, basic int, branch text)\"\n",
    "    cur.execute(q)\n",
    "    con.commit()\n"
   ]
  },
  {
   "cell_type": "code",
   "execution_count": 5,
   "id": "f9609a8a",
   "metadata": {},
   "outputs": [],
   "source": [
    "def insert_records_directly():\n",
    "    q=\"insert into Employee values(?,?,?,?,?)\"\n",
    "    l=[(1,'om',' Account',5000,'Surat'),(2,'sai','HR', 5600, 'Mumbai'),(3,'ram','Account', 6000, 'Bangalore'),\n",
    "       (4,'anil','IT', 6200, 'Delhi'),(5,'sunil','Inventory', 4500, 'Surat')]\n",
    "    cur.executemany(q,l)\n",
    "    con.commit()"
   ]
  },
  {
   "cell_type": "code",
   "execution_count": 6,
   "id": "1cea1e27",
   "metadata": {},
   "outputs": [],
   "source": [
    "def insert_records_user():\n",
    "    q=\"insert into Employee values(?,?,?,?,?)\"\n",
    "    l1=[]\n",
    "    for i in range(6,11):\n",
    "        eid=int(input(\"Enter employee id:\"))\n",
    "        ename=input(\"Enter employee name:\")\n",
    "        edept=input(\"Enter employee department:\")\n",
    "        ebasic=int(input(\"Enter employee basic:\"))\n",
    "        ebranch=input(\"Enter employee branch:\")\n",
    "        t=(eid,ename,edept,ebasic,ebranch)\n",
    "        l1.append(t)\n",
    "    cur.executemany(q,l1)\n",
    "    con.commit()\n"
   ]
  },
  {
   "cell_type": "code",
   "execution_count": 7,
   "id": "a4dd9b36",
   "metadata": {},
   "outputs": [],
   "source": [
    "def update():\n",
    "    q=(\"UPDATE Employee SET basic = basic * 1.1 WHERE branch = 'Surat' \")\n",
    "    cur.execute(q)\n",
    "    con.commit()\n"
   ]
  },
  {
   "cell_type": "code",
   "execution_count": 8,
   "id": "81b15414",
   "metadata": {},
   "outputs": [],
   "source": [
    "def print_record():\n",
    "    q=(\"select * from Employee\")\n",
    "    cur.execute(q)\n",
    "    r=cur.fetchall()\n",
    "    print(\"ALL Records:\")\n",
    "    for i in range(len(r)):\n",
    "        print(r[i])\n",
    "    con.commit()"
   ]
  },
  {
   "cell_type": "code",
   "execution_count": 9,
   "id": "bddb9bf5",
   "metadata": {},
   "outputs": [],
   "source": [
    "def print_record_HR_IT():\n",
    "    q=(\"select * from Employee where dept='HR' OR dept='IT'\")\n",
    "    cur.execute(q)\n",
    "    r=cur.fetchall()\n",
    "    print(\"deprtment is HR and IT:\")\n",
    "    for i in range(len(r)):\n",
    "        print(r[i])\n",
    "    con.commit()"
   ]
  },
  {
   "cell_type": "code",
   "execution_count": 10,
   "id": "2d549588",
   "metadata": {},
   "outputs": [],
   "source": [
    "def print_record_orderby_dept():\n",
    "    q=(\"select * from Employee ORDER BY dept\")\n",
    "    cur.execute(q)\n",
    "    r=cur.fetchall()\n",
    "    print(\"Record ORDER BY DEPT:\")\n",
    "    for i in range(len(r)):\n",
    "        print(r[i])\n",
    "    con.commit()\n"
   ]
  },
  {
   "cell_type": "code",
   "execution_count": 11,
   "id": "43fc1b85",
   "metadata": {},
   "outputs": [],
   "source": [
    "def print_record_basic():\n",
    "    q=(\"select * from Employee where basic>6000\")\n",
    "    cur.execute(q)\n",
    "    r=cur.fetchall()\n",
    "    print(\"Basic>6000:\")\n",
    "    for i in range(len(r)):\n",
    "        print(r[i])\n",
    "    con.commit()"
   ]
  },
  {
   "cell_type": "code",
   "execution_count": 13,
   "id": "92c0c146",
   "metadata": {},
   "outputs": [],
   "source": [
    "def print_record_ename_seccond_char_r():\n",
    "    q=(\"select * from Employee where ename LIKE '_r%'\")\n",
    "    cur.execute(q)\n",
    "    r=cur.fetchall()\n",
    "    print(\"employee name second char is r:\")\n",
    "    for i in range(len(r)):\n",
    "        print(r[i])\n",
    "    con.commit()"
   ]
  },
  {
   "cell_type": "code",
   "execution_count": 14,
   "id": "967d8888",
   "metadata": {},
   "outputs": [],
   "source": [
    "def grouping():\n",
    "    q=(\"select dept,count(*) from Employee where dept IN('Account','Inventory') GROUP BY dept\")\n",
    "    cur.execute(q)\n",
    "    r=cur.fetchall()\n",
    "    print(\"Grouping:\")\n",
    "    for i in range(len(r)):\n",
    "        print(r[i])\n",
    "    con.commit()"
   ]
  },
  {
   "cell_type": "code",
   "execution_count": 15,
   "id": "298b5a99",
   "metadata": {},
   "outputs": [],
   "source": [
    "def branch_descending():\n",
    "    q=(\"select * from Employee ORDER BY branch\")\n",
    "    cur.execute(q)\n",
    "    r=cur.fetchall()\n",
    "    print(\"branch name in descending order:\")\n",
    "    for i in range(len(r)):\n",
    "        print(r[i])\n",
    "    con.commit()"
   ]
  },
  {
   "cell_type": "code",
   "execution_count": 16,
   "id": "bd1c91cc",
   "metadata": {},
   "outputs": [],
   "source": [
    "create_table()\n"
   ]
  },
  {
   "cell_type": "code",
   "execution_count": 17,
   "id": "5fafa956",
   "metadata": {},
   "outputs": [],
   "source": [
    "insert_records_directly()\n"
   ]
  },
  {
   "cell_type": "code",
   "execution_count": 21,
   "id": "04fc3027",
   "metadata": {},
   "outputs": [
    {
     "name": "stdout",
     "output_type": "stream",
     "text": [
      "Enter employee id:6\n",
      "Enter employee name:dev\n",
      "Enter employee department:HR\n",
      "Enter employee basic:6600\n",
      "Enter employee branch:ahmadabad\n",
      "Enter employee id:7\n",
      "Enter employee name:bruce\n",
      "Enter employee department:inventory\n",
      "Enter employee basic:5500\n",
      "Enter employee branch:banglore\n",
      "Enter employee id:8\n",
      "Enter employee name:sikhar\n",
      "Enter employee department:it\n",
      "Enter employee basic:4100\n",
      "Enter employee branch:mumbai\n",
      "Enter employee id:9\n",
      "Enter employee name:sujal\n",
      "Enter employee department:account\n",
      "Enter employee basic:6700\n",
      "Enter employee branch:kamrej\n",
      "Enter employee id:10\n",
      "Enter employee name:ravindra\n",
      "Enter employee department:IT\n",
      "Enter employee basic:7000\n",
      "Enter employee branch:mumbai\n"
     ]
    }
   ],
   "source": [
    "insert_records_user()\n"
   ]
  },
  {
   "cell_type": "code",
   "execution_count": 22,
   "id": "d59d5ec7",
   "metadata": {},
   "outputs": [],
   "source": [
    "update()\n"
   ]
  },
  {
   "cell_type": "code",
   "execution_count": 23,
   "id": "708c304f",
   "metadata": {},
   "outputs": [
    {
     "name": "stdout",
     "output_type": "stream",
     "text": [
      "ALL Records:\n",
      "(1, 'om', ' Account', 5500, 'Surat')\n",
      "(2, 'sai', 'HR', 5600, 'Mumbai')\n",
      "(3, 'ram', 'Account', 6000, 'Bangalore')\n",
      "(4, 'anil', 'IT', 6200, 'Delhi')\n",
      "(5, 'sunil', 'Inventory', 4950, 'Surat')\n",
      "(6, 'dev', 'HR', 6600, 'ahmadabad')\n",
      "(7, 'bruce', 'inventory', 5500, 'banglore')\n",
      "(8, 'sikhar', 'it', 4100, 'mumbai')\n",
      "(9, 'sujal', 'account', 6700, 'kamrej')\n",
      "(10, 'ravindra', 'IT', 7000, 'mumbai')\n"
     ]
    }
   ],
   "source": [
    "print_record()\n"
   ]
  },
  {
   "cell_type": "code",
   "execution_count": 24,
   "id": "5ab7537d",
   "metadata": {},
   "outputs": [
    {
     "name": "stdout",
     "output_type": "stream",
     "text": [
      "deprtment is HR and IT:\n",
      "(2, 'sai', 'HR', 5600, 'Mumbai')\n",
      "(4, 'anil', 'IT', 6200, 'Delhi')\n",
      "(6, 'dev', 'HR', 6600, 'ahmadabad')\n",
      "(10, 'ravindra', 'IT', 7000, 'mumbai')\n"
     ]
    }
   ],
   "source": [
    "print_record_HR_IT()"
   ]
  },
  {
   "cell_type": "code",
   "execution_count": 25,
   "id": "80c4fe90",
   "metadata": {},
   "outputs": [
    {
     "name": "stdout",
     "output_type": "stream",
     "text": [
      "Basic>6000:\n",
      "(4, 'anil', 'IT', 6200, 'Delhi')\n",
      "(6, 'dev', 'HR', 6600, 'ahmadabad')\n",
      "(9, 'sujal', 'account', 6700, 'kamrej')\n",
      "(10, 'ravindra', 'IT', 7000, 'mumbai')\n"
     ]
    }
   ],
   "source": [
    "print_record_basic()"
   ]
  },
  {
   "cell_type": "code",
   "execution_count": 27,
   "id": "3c6dffdb",
   "metadata": {},
   "outputs": [
    {
     "name": "stdout",
     "output_type": "stream",
     "text": [
      "employee name second char is r:\n",
      "(7, 'bruce', 'inventory', 5500, 'banglore')\n"
     ]
    }
   ],
   "source": [
    "print_record_ename_seccond_char_r()"
   ]
  },
  {
   "cell_type": "code",
   "execution_count": 28,
   "id": "75774f55",
   "metadata": {},
   "outputs": [
    {
     "name": "stdout",
     "output_type": "stream",
     "text": [
      "Grouping:\n",
      "('Account', 1)\n",
      "('Inventory', 1)\n"
     ]
    }
   ],
   "source": [
    "grouping()"
   ]
  },
  {
   "cell_type": "code",
   "execution_count": 29,
   "id": "0c9b1788",
   "metadata": {},
   "outputs": [
    {
     "name": "stdout",
     "output_type": "stream",
     "text": [
      "branch name in descending order:\n",
      "(3, 'ram', 'Account', 6000, 'Bangalore')\n",
      "(4, 'anil', 'IT', 6200, 'Delhi')\n",
      "(2, 'sai', 'HR', 5600, 'Mumbai')\n",
      "(1, 'om', ' Account', 5500, 'Surat')\n",
      "(5, 'sunil', 'Inventory', 4950, 'Surat')\n",
      "(6, 'dev', 'HR', 6600, 'ahmadabad')\n",
      "(7, 'bruce', 'inventory', 5500, 'banglore')\n",
      "(9, 'sujal', 'account', 6700, 'kamrej')\n",
      "(8, 'sikhar', 'it', 4100, 'mumbai')\n",
      "(10, 'ravindra', 'IT', 7000, 'mumbai')\n"
     ]
    }
   ],
   "source": [
    "branch_descending()"
   ]
  },
  {
   "cell_type": "code",
   "execution_count": 30,
   "id": "8966e232",
   "metadata": {},
   "outputs": [],
   "source": [
    "cur.close()"
   ]
  },
  {
   "cell_type": "code",
   "execution_count": null,
   "id": "a6f1dc60",
   "metadata": {},
   "outputs": [],
   "source": []
  }
 ],
 "metadata": {
  "kernelspec": {
   "display_name": "Python 3 (ipykernel)",
   "language": "python",
   "name": "python3"
  },
  "language_info": {
   "codemirror_mode": {
    "name": "ipython",
    "version": 3
   },
   "file_extension": ".py",
   "mimetype": "text/x-python",
   "name": "python",
   "nbconvert_exporter": "python",
   "pygments_lexer": "ipython3",
   "version": "3.9.6"
  }
 },
 "nbformat": 4,
 "nbformat_minor": 5
}
